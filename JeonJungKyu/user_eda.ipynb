{
 "cells": [
  {
   "metadata": {
    "ExecuteTime": {
     "end_time": "2025-05-15T08:55:55.668367Z",
     "start_time": "2025-05-15T08:55:55.662309Z"
    }
   },
   "cell_type": "code",
   "source": [
    "import pandas as pd\n",
    "import numpy as np\n",
    "import matplotlib.pyplot as plt\n",
    "import seaborn as sns"
   ],
   "id": "76fdc4988c6edfca",
   "outputs": [],
   "execution_count": 2
  },
  {
   "cell_type": "code",
   "id": "initial_id",
   "metadata": {
    "collapsed": true,
    "ExecuteTime": {
     "end_time": "2025-05-15T08:55:56.865110Z",
     "start_time": "2025-05-15T08:55:56.806308Z"
    }
   },
   "source": [
    "df = pd.read_csv('data/netflix_users.csv')\n",
    "df.head()"
   ],
   "outputs": [
    {
     "data": {
      "text/plain": [
       "   User_ID            Name  Age Country Subscription_Type  Watch_Time_Hours  \\\n",
       "0        1  James Martinez   18  France           Premium             80.26   \n",
       "1        2     John Miller   23     USA           Premium            321.75   \n",
       "2        3      Emma Davis   60      UK             Basic             35.89   \n",
       "3        4     Emma Miller   44     USA           Premium            261.56   \n",
       "4        5      Jane Smith   68     USA          Standard            909.30   \n",
       "\n",
       "  Favorite_Genre  Last_Login  \n",
       "0          Drama  2024-05-12  \n",
       "1         Sci-Fi  2025-02-05  \n",
       "2         Comedy  2025-01-24  \n",
       "3    Documentary  2024-03-25  \n",
       "4          Drama  2025-01-14  "
      ],
      "text/html": [
       "<div>\n",
       "<style scoped>\n",
       "    .dataframe tbody tr th:only-of-type {\n",
       "        vertical-align: middle;\n",
       "    }\n",
       "\n",
       "    .dataframe tbody tr th {\n",
       "        vertical-align: top;\n",
       "    }\n",
       "\n",
       "    .dataframe thead th {\n",
       "        text-align: right;\n",
       "    }\n",
       "</style>\n",
       "<table border=\"1\" class=\"dataframe\">\n",
       "  <thead>\n",
       "    <tr style=\"text-align: right;\">\n",
       "      <th></th>\n",
       "      <th>User_ID</th>\n",
       "      <th>Name</th>\n",
       "      <th>Age</th>\n",
       "      <th>Country</th>\n",
       "      <th>Subscription_Type</th>\n",
       "      <th>Watch_Time_Hours</th>\n",
       "      <th>Favorite_Genre</th>\n",
       "      <th>Last_Login</th>\n",
       "    </tr>\n",
       "  </thead>\n",
       "  <tbody>\n",
       "    <tr>\n",
       "      <th>0</th>\n",
       "      <td>1</td>\n",
       "      <td>James Martinez</td>\n",
       "      <td>18</td>\n",
       "      <td>France</td>\n",
       "      <td>Premium</td>\n",
       "      <td>80.26</td>\n",
       "      <td>Drama</td>\n",
       "      <td>2024-05-12</td>\n",
       "    </tr>\n",
       "    <tr>\n",
       "      <th>1</th>\n",
       "      <td>2</td>\n",
       "      <td>John Miller</td>\n",
       "      <td>23</td>\n",
       "      <td>USA</td>\n",
       "      <td>Premium</td>\n",
       "      <td>321.75</td>\n",
       "      <td>Sci-Fi</td>\n",
       "      <td>2025-02-05</td>\n",
       "    </tr>\n",
       "    <tr>\n",
       "      <th>2</th>\n",
       "      <td>3</td>\n",
       "      <td>Emma Davis</td>\n",
       "      <td>60</td>\n",
       "      <td>UK</td>\n",
       "      <td>Basic</td>\n",
       "      <td>35.89</td>\n",
       "      <td>Comedy</td>\n",
       "      <td>2025-01-24</td>\n",
       "    </tr>\n",
       "    <tr>\n",
       "      <th>3</th>\n",
       "      <td>4</td>\n",
       "      <td>Emma Miller</td>\n",
       "      <td>44</td>\n",
       "      <td>USA</td>\n",
       "      <td>Premium</td>\n",
       "      <td>261.56</td>\n",
       "      <td>Documentary</td>\n",
       "      <td>2024-03-25</td>\n",
       "    </tr>\n",
       "    <tr>\n",
       "      <th>4</th>\n",
       "      <td>5</td>\n",
       "      <td>Jane Smith</td>\n",
       "      <td>68</td>\n",
       "      <td>USA</td>\n",
       "      <td>Standard</td>\n",
       "      <td>909.30</td>\n",
       "      <td>Drama</td>\n",
       "      <td>2025-01-14</td>\n",
       "    </tr>\n",
       "  </tbody>\n",
       "</table>\n",
       "</div>"
      ]
     },
     "execution_count": 3,
     "metadata": {},
     "output_type": "execute_result"
    }
   ],
   "execution_count": 3
  },
  {
   "metadata": {
    "ExecuteTime": {
     "end_time": "2025-05-15T08:55:58.415114Z",
     "start_time": "2025-05-15T08:55:58.410215Z"
    }
   },
   "cell_type": "code",
   "source": [
    "# 한글 폰트 설정 (사용자 시스템에 따라 변경 필요)\n",
    "import matplotlib.font_manager as fm\n",
    "import warnings\n",
    "warnings.filterwarnings(\"ignore\")\n",
    "\n",
    "font_path = \"C:/Windows/Fonts/malgun.ttf\"\n",
    "font_prop = fm.FontProperties(fname=font_path).get_name()\n",
    "plt.rcParams['font.family'] = font_prop\n",
    "plt.rcParams['axes.unicode_minus'] = False\n"
   ],
   "id": "6c3b22c6fa88f460",
   "outputs": [],
   "execution_count": 4
  },
  {
   "metadata": {
    "ExecuteTime": {
     "end_time": "2025-05-15T08:56:00.936500Z",
     "start_time": "2025-05-15T08:56:00.913303Z"
    }
   },
   "cell_type": "code",
   "source": [
    "print(df.shape)\n",
    "print(df.dtypes)\n",
    "print(\"\")\n",
    "print(df.describe())\n",
    "print(\"\")\n",
    "print(df.isnull) # 결측치없음\n",
    "\n"
   ],
   "id": "181d29ddd6bd0f90",
   "outputs": [
    {
     "name": "stdout",
     "output_type": "stream",
     "text": [
      "(25000, 8)\n",
      "User_ID                int64\n",
      "Name                  object\n",
      "Age                    int64\n",
      "Country               object\n",
      "Subscription_Type     object\n",
      "Watch_Time_Hours     float64\n",
      "Favorite_Genre        object\n",
      "Last_Login            object\n",
      "dtype: object\n",
      "\n",
      "            User_ID           Age  Watch_Time_Hours\n",
      "count  25000.000000  25000.000000      25000.000000\n",
      "mean   12500.500000     46.482880        500.468858\n",
      "std     7217.022701     19.594861        286.381815\n",
      "min        1.000000     13.000000          0.120000\n",
      "25%     6250.750000     29.000000        256.567500\n",
      "50%    12500.500000     46.000000        501.505000\n",
      "75%    18750.250000     63.000000        745.732500\n",
      "max    25000.000000     80.000000        999.990000\n",
      "\n",
      "<bound method DataFrame.isnull of        User_ID              Name  Age    Country Subscription_Type  \\\n",
      "0            1    James Martinez   18     France           Premium   \n",
      "1            2       John Miller   23        USA           Premium   \n",
      "2            3        Emma Davis   60         UK             Basic   \n",
      "3            4       Emma Miller   44        USA           Premium   \n",
      "4            5        Jane Smith   68        USA          Standard   \n",
      "...        ...               ...  ...        ...               ...   \n",
      "24995    24996      David Miller   18  Australia           Premium   \n",
      "24996    24997       Jane Miller   17        USA           Premium   \n",
      "24997    24998      Sarah Miller   14        USA           Premium   \n",
      "24998    24999  Michael Williams   71        USA             Basic   \n",
      "24999    25000       James Jones   19    Germany           Premium   \n",
      "\n",
      "       Watch_Time_Hours Favorite_Genre  Last_Login  \n",
      "0                 80.26          Drama  2024-05-12  \n",
      "1                321.75         Sci-Fi  2025-02-05  \n",
      "2                 35.89         Comedy  2025-01-24  \n",
      "3                261.56    Documentary  2024-03-25  \n",
      "4                909.30          Drama  2025-01-14  \n",
      "...                 ...            ...         ...  \n",
      "24995            183.88         Horror  2025-01-18  \n",
      "24996            112.37          Drama  2024-06-29  \n",
      "24997            351.80         Action  2024-10-16  \n",
      "24998            655.89         Action  2024-08-27  \n",
      "24999            207.06    Documentary  2024-04-12  \n",
      "\n",
      "[25000 rows x 8 columns]>\n"
     ]
    }
   ],
   "execution_count": 5
  },
  {
   "metadata": {
    "ExecuteTime": {
     "end_time": "2025-05-15T08:56:04.262782Z",
     "start_time": "2025-05-15T08:56:04.192926Z"
    }
   },
   "cell_type": "code",
   "source": [
    "print(df.value_counts('User_ID'), end='\\n\\n')\n",
    "print(df.value_counts('Name'), end='\\n\\n')\n",
    "print(df.value_counts('Age'), end='\\n\\n')\n",
    "print(df.value_counts('Country'), end='\\n\\n')\n",
    "print(df.value_counts('Subscription_Type'), end='\\n\\n')\n",
    "print(df.value_counts('Watch_Time_Hours'), end='\\n\\n')\n",
    "print(df.value_counts('Favorite_Genre'), end='\\n\\n')\n",
    "print(df.value_counts('Last_Login'), end='\\n\\n')\n",
    "print(df.isna().sum())"
   ],
   "id": "a069c33c6acefcff",
   "outputs": [
    {
     "name": "stdout",
     "output_type": "stream",
     "text": [
      "User_ID\n",
      "25000    1\n",
      "1        1\n",
      "2        1\n",
      "3        1\n",
      "4        1\n",
      "        ..\n",
      "12       1\n",
      "13       1\n",
      "14       1\n",
      "15       1\n",
      "16       1\n",
      "Name: count, Length: 25000, dtype: int64\n",
      "\n",
      "Name\n",
      "Michael Hernandez    292\n",
      "Katie Smith          287\n",
      "Sarah Brown          287\n",
      "Jane Williams        278\n",
      "Jane Johnson         275\n",
      "                    ... \n",
      "Chris Garcia         230\n",
      "James Davis          228\n",
      "Jane Garcia          227\n",
      "Jane Davis           211\n",
      "Chris Davis          209\n",
      "Name: count, Length: 100, dtype: int64\n",
      "\n",
      "Age\n",
      "26    407\n",
      "40    406\n",
      "45    405\n",
      "57    404\n",
      "62    400\n",
      "     ... \n",
      "13    339\n",
      "51    338\n",
      "73    334\n",
      "74    330\n",
      "36    326\n",
      "Name: count, Length: 68, dtype: int64\n",
      "\n",
      "Country\n",
      "UK           2592\n",
      "Germany      2547\n",
      "India        2505\n",
      "Brazil       2503\n",
      "USA          2503\n",
      "Mexico       2493\n",
      "Canada       2490\n",
      "France       2473\n",
      "Japan        2457\n",
      "Australia    2437\n",
      "Name: count, dtype: int64\n",
      "\n",
      "Subscription_Type\n",
      "Premium     8402\n",
      "Basic       8356\n",
      "Standard    8242\n",
      "Name: count, dtype: int64\n",
      "\n",
      "Watch_Time_Hours\n",
      "715.37    5\n",
      "995.15    5\n",
      "434.39    4\n",
      "244.58    4\n",
      "197.51    4\n",
      "         ..\n",
      "1.67      1\n",
      "1.70      1\n",
      "68.87     1\n",
      "1.80      1\n",
      "998.66    1\n",
      "Name: count, Length: 22087, dtype: int64\n",
      "\n",
      "Favorite_Genre\n",
      "Horror         3654\n",
      "Documentary    3636\n",
      "Action         3589\n",
      "Romance        3572\n",
      "Comedy         3561\n",
      "Drama          3533\n",
      "Sci-Fi         3455\n",
      "Name: count, dtype: int64\n",
      "\n",
      "Last_Login\n",
      "2024-09-05    92\n",
      "2024-04-12    91\n",
      "2024-06-21    88\n",
      "2024-10-11    88\n",
      "2024-04-10    88\n",
      "              ..\n",
      "2024-09-12    51\n",
      "2025-01-08    50\n",
      "2025-01-12    49\n",
      "2024-09-19    48\n",
      "2024-12-06    39\n",
      "Name: count, Length: 366, dtype: int64\n",
      "\n",
      "User_ID              0\n",
      "Name                 0\n",
      "Age                  0\n",
      "Country              0\n",
      "Subscription_Type    0\n",
      "Watch_Time_Hours     0\n",
      "Favorite_Genre       0\n",
      "Last_Login           0\n",
      "dtype: int64\n"
     ]
    }
   ],
   "execution_count": 6
  },
  {
   "metadata": {
    "ExecuteTime": {
     "end_time": "2025-05-15T08:56:06.483435Z",
     "start_time": "2025-05-15T08:56:06.308011Z"
    }
   },
   "cell_type": "code",
   "source": [
    "## 04.결측치, 이상치 탐지 Watch_Time_Hours 이상치 탐지\n",
    "df.duplicated('Watch_Time_Hours').sum()\n",
    "df['Watch_Time_Hours'].plot(kind='box',)\n"
   ],
   "id": "3132551a4df68f2a",
   "outputs": [
    {
     "data": {
      "text/plain": [
       "<Axes: >"
      ]
     },
     "execution_count": 7,
     "metadata": {},
     "output_type": "execute_result"
    },
    {
     "data": {
      "text/plain": [
       "<Figure size 640x480 with 1 Axes>"
      ],
      "image/png": "[encoded data removed]"
     },
     "metadata": {},
     "output_type": "display_data"
    }
   ],
   "execution_count": 7
  },
  {
   "metadata": {
    "ExecuteTime": {
     "end_time": "2025-05-15T08:56:14.695493Z",
     "start_time": "2025-05-15T08:56:14.468427Z"
    }
   },
   "cell_type": "code",
   "source": "sns.histplot(df['Age']) ##나이 히스토그램",
   "id": "25952ceb0419dbb6",
   "outputs": [
    {
     "data": {
      "text/plain": [
       "<Axes: xlabel='Age', ylabel='Count'>"
      ]
     },
     "execution_count": 8,
     "metadata": {},
     "output_type": "execute_result"
    },
    {
     "data": {
      "text/plain": [
       "<Figure size 640x480 with 1 Axes>"
      ],
      "image/png": "[encoded data removed]"
     },
     "metadata": {},
     "output_type": "display_data"
    }
   ],
   "execution_count": 8
  },
  {
   "metadata": {
    "ExecuteTime": {
     "end_time": "2025-05-14T10:37:37.360432Z",
     "start_time": "2025-05-14T10:37:37.351279Z"
    }
   },
   "cell_type": "code",
   "source": "df[df['Favorite_Genre'] == 'Documentary']['Country'].value_counts()",
   "id": "3e21ad125feebee9",
   "outputs": [
    {
     "data": {
      "text/plain": [
       "Country\n",
       "USA          380\n",
       "France       378\n",
       "Canada       374\n",
       "UK           373\n",
       "Japan        372\n",
       "Mexico       370\n",
       "Australia    368\n",
       "Brazil       348\n",
       "Germany      340\n",
       "India        333\n",
       "Name: count, dtype: int64"
      ]
     },
     "execution_count": 75,
     "metadata": {},
     "output_type": "execute_result"
    }
   ],
   "execution_count": 75
  },
  {
   "metadata": {
    "ExecuteTime": {
     "end_time": "2025-05-14T10:37:37.414455Z",
     "start_time": "2025-05-14T10:37:37.402903Z"
    }
   },
   "cell_type": "code",
   "source": "df[df['Favorite_Genre'] == 'Action']['Country'].value_counts()",
   "id": "4d499f377c31a12d",
   "outputs": [
    {
     "data": {
      "text/plain": [
       "Country\n",
       "Canada       378\n",
       "India        372\n",
       "Germany      370\n",
       "France       367\n",
       "Brazil       364\n",
       "UK           360\n",
       "USA          360\n",
       "Mexico       355\n",
       "Japan        333\n",
       "Australia    330\n",
       "Name: count, dtype: int64"
      ]
     },
     "execution_count": 76,
     "metadata": {},
     "output_type": "execute_result"
    }
   ],
   "execution_count": 76
  },
  {
   "metadata": {
    "ExecuteTime": {
     "end_time": "2025-05-14T10:37:37.500818Z",
     "start_time": "2025-05-14T10:37:37.484052Z"
    }
   },
   "cell_type": "code",
   "source": "df[df['Favorite_Genre'] == 'Romance']['Country'].value_counts()",
   "id": "748dc9961296fa50",
   "outputs": [
    {
     "data": {
      "text/plain": [
       "Country\n",
       "India        399\n",
       "Brazil       376\n",
       "Germany      369\n",
       "Australia    358\n",
       "UK           358\n",
       "Mexico       356\n",
       "Japan        349\n",
       "USA          344\n",
       "France       335\n",
       "Canada       328\n",
       "Name: count, dtype: int64"
      ]
     },
     "execution_count": 77,
     "metadata": {},
     "output_type": "execute_result"
    }
   ],
   "execution_count": 77
  },
  {
   "metadata": {
    "ExecuteTime": {
     "end_time": "2025-05-14T10:37:37.590505Z",
     "start_time": "2025-05-14T10:37:37.579526Z"
    }
   },
   "cell_type": "code",
   "source": "df[df['Favorite_Genre'] == 'Comedy']['Country'].value_counts()",
   "id": "b7ccebc5aca04c38",
   "outputs": [
    {
     "data": {
      "text/plain": [
       "Country\n",
       "Brazil       373\n",
       "Germany      372\n",
       "USA          371\n",
       "UK           370\n",
       "Canada       363\n",
       "India        360\n",
       "France       347\n",
       "Mexico       344\n",
       "Japan        331\n",
       "Australia    330\n",
       "Name: count, dtype: int64"
      ]
     },
     "execution_count": 78,
     "metadata": {},
     "output_type": "execute_result"
    }
   ],
   "execution_count": 78
  },
  {
   "metadata": {
    "ExecuteTime": {
     "end_time": "2025-05-14T10:37:37.706200Z",
     "start_time": "2025-05-14T10:37:37.695069Z"
    }
   },
   "cell_type": "code",
   "source": "df[df['Favorite_Genre'] == 'Drama']['Country'].value_counts()",
   "id": "1ca06936881078b8",
   "outputs": [
    {
     "data": {
      "text/plain": [
       "Country\n",
       "USA          378\n",
       "Japan        371\n",
       "Canada       368\n",
       "France       360\n",
       "UK           359\n",
       "Australia    348\n",
       "Mexico       347\n",
       "Brazil       342\n",
       "India        331\n",
       "Germany      329\n",
       "Name: count, dtype: int64"
      ]
     },
     "execution_count": 79,
     "metadata": {},
     "output_type": "execute_result"
    }
   ],
   "execution_count": 79
  },
  {
   "metadata": {
    "ExecuteTime": {
     "end_time": "2025-05-14T10:37:37.824548Z",
     "start_time": "2025-05-14T10:37:37.811861Z"
    }
   },
   "cell_type": "code",
   "source": "df[df['Favorite_Genre'] == 'Sci-Fi']['Country'].value_counts()\n",
   "id": "3557a1671e38bb27",
   "outputs": [
    {
     "data": {
      "text/plain": [
       "Country\n",
       "Germany      385\n",
       "UK           373\n",
       "Mexico       366\n",
       "Australia    352\n",
       "Japan        340\n",
       "India        340\n",
       "Brazil       337\n",
       "France       322\n",
       "Canada       321\n",
       "USA          319\n",
       "Name: count, dtype: int64"
      ]
     },
     "execution_count": 80,
     "metadata": {},
     "output_type": "execute_result"
    }
   ],
   "execution_count": 80
  },
  {
   "metadata": {
    "ExecuteTime": {
     "end_time": "2025-05-14T10:46:46.866942Z",
     "start_time": "2025-05-14T10:46:46.851792Z"
    }
   },
   "cell_type": "code",
   "source": "sns.boxplot(x='Age', y='Watch_Time_Hours', data=df",
   "id": "865b211c3e439ac9",
   "outputs": [
    {
     "ename": "SyntaxError",
     "evalue": "incomplete input (3767983222.py, line 1)",
     "output_type": "error",
     "traceback": [
      "  \u001B[36mCell\u001B[39m\u001B[36m \u001B[39m\u001B[32mIn[89]\u001B[39m\u001B[32m, line 1\u001B[39m\n\u001B[31m    \u001B[39m\u001B[31msns.boxplot(x='Age', y='Watch_Time_Hours', data=df\u001B[39m\n                                                      ^\n\u001B[31mSyntaxError\u001B[39m\u001B[31m:\u001B[39m incomplete input\n"
     ]
    }
   ],
   "execution_count": 89
  },
  {
   "metadata": {
    "ExecuteTime": {
     "end_time": "2025-05-14T10:37:37.924699Z",
     "start_time": "2025-05-14T10:37:37.921654Z"
    }
   },
   "cell_type": "code",
   "source": "# 각 나라별 인기있는 장르",
   "id": "aa951e631a7cdedf",
   "outputs": [],
   "execution_count": 81
  },
  {
   "metadata": {
    "ExecuteTime": {
     "end_time": "2025-05-15T08:57:00.442755Z",
     "start_time": "2025-05-15T08:56:59.092448Z"
    }
   },
   "cell_type": "code",
   "source": [
    "import matplotlib.pyplot as plt\n",
    "import seaborn as sns\n",
    "\n",
    "# 분석 대상 장르 리스트\n",
    "genres = ['Horror', 'Documentary', 'Action', 'Romance', 'Comedy', 'Drama', 'Sci-Fi']\n",
    "\n",
    "# 해당 장르만 필터링\n",
    "filtered_df = df[df['Favorite_Genre'].isin(genres)]\n",
    "\n",
    "# 장르별 국가별 사용자 수 집계\n",
    "genre_country_counts = filtered_df.groupby(['Favorite_Genre', 'Country']).size().reset_index(name='User_Count')\n",
    "\n",
    "# 시각화\n",
    "sns.set(style=\"whitegrid\")\n",
    "g = sns.catplot(\n",
    "    data=genre_country_counts,\n",
    "    x=\"User_Count\", y=\"Country\",\n",
    "    col=\"Favorite_Genre\",\n",
    "    kind=\"bar\",\n",
    "    col_wrap=3,\n",
    "    height=4, aspect=1.2,\n",
    "    sharey=False\n",
    ")\n",
    "\n",
    "g.set_titles(\"{col_name}\")\n",
    "g.fig.subplots_adjust(top=0.9)\n",
    "g.fig.suptitle(\"genre country user_count\", fontsize=16)\n",
    "plt.show()\n"
   ],
   "id": "f3f15517755ca02f",
   "outputs": [
    {
     "data": {
      "text/plain": [
       "<Figure size 1452.22x1200 with 7 Axes>"
      ],
      "image/png": "[encoded data removed]"
     },
     "metadata": {},
     "output_type": "display_data"
    }
   ],
   "execution_count": 10
  },
  {
   "metadata": {
    "ExecuteTime": {
     "end_time": "2025-05-14T10:41:34.713223Z",
     "start_time": "2025-05-14T10:41:34.685094Z"
    }
   },
   "cell_type": "code",
   "source": [
    "import pandas as pd\n",
    "from datetime import datetime, timedelta\n",
    "\n",
    "# 예시 데이터 (df['Last_Login']가 이미 datetime 형식이어야 합니다.)\n",
    "df['Last_Login'] = pd.to_datetime(df['Last_Login'], errors='coerce')  # 'coerce'는 변환할 수 없는 값을 NaT로 처리\n",
    "\n",
    "# 기준 날짜: 2021년 9월 25일\n",
    "latest_addition_date = datetime(2021, 9, 25)\n",
    "\n",
    "# 기준 날짜로부터 한 달 전 날짜 계산\n",
    "one_month_ago = latest_addition_date - timedelta(days=180)\n",
    "\n",
    "# 이탈한 사용자 필터링 (기준 날짜로부터 한 달 이상 로그인하지 않은 사용자)\n",
    "churned_users = df[df['Last_Login'] < one_month_ago]\n",
    "\n",
    "# 이탈한 사용자 수\n",
    "num_churned = churned_users.shape[0]\n",
    "\n",
    "# 전체 사용자 수\n",
    "num_total = df.shape[0]\n",
    "\n",
    "# 이탈률 계산\n",
    "churn_rate = (num_churned / num_total) * 100\n",
    "\n",
    "# 결과 출력\n",
    "print(f\"이탈한 사용자 수: {num_churned}\")\n",
    "print(f\"전체 사용자 수: {num_total}\")\n",
    "print(f\"이탈률: {churn_rate:.2f}%\")\n",
    "\n",
    "# 이탈한 사용자 데이터 확인\n",
    "print(churned_users)\n"
   ],
   "id": "ae01086c07df1aa0",
   "outputs": [
    {
     "name": "stdout",
     "output_type": "stream",
     "text": [
      "이탈한 사용자 수: 0\n",
      "전체 사용자 수: 25000\n",
      "이탈률: 0.00%\n",
      "Empty DataFrame\n",
      "Columns: [User_ID, Name, Age, Country, Subscription_Type, Watch_Time_Hours, Favorite_Genre, Last_Login]\n",
      "Index: []\n"
     ]
    }
   ],
   "execution_count": 88
  },
  {
   "metadata": {},
   "cell_type": "code",
   "outputs": [],
   "execution_count": null,
   "source": [
    "# 연령별 시청기간\n",
    "# 연령별 시청패턴 선호장르\n",
    "# Last_login인으로 언제 가장 시청률이 높은요일인지"
   ],
   "id": "4a35504dfec1213e"
  },
  {
   "metadata": {
    "ExecuteTime": {
     "end_time": "2025-05-15T00:15:15.067905Z",
     "start_time": "2025-05-15T00:15:14.922818Z"
    }
   },
   "cell_type": "code",
   "source": "df1 =pd.read_csv('data/KRvideos.csv')",
   "id": "b9d610caa531d2b5",
   "outputs": [
    {
     "ename": "UnicodeDecodeError",
     "evalue": "'utf-8' codec can't decode bytes in position 261291-261292: invalid continuation byte",
     "output_type": "error",
     "traceback": [
      "\u001B[31m---------------------------------------------------------------------------\u001B[39m",
      "\u001B[31mUnicodeDecodeError\u001B[39m                        Traceback (most recent call last)",
      "\u001B[36mCell\u001B[39m\u001B[36m \u001B[39m\u001B[32mIn[14]\u001B[39m\u001B[32m, line 1\u001B[39m\n\u001B[32m----> \u001B[39m\u001B[32m1\u001B[39m df1 =\u001B[43mpd\u001B[49m\u001B[43m.\u001B[49m\u001B[43mread_csv\u001B[49m\u001B[43m(\u001B[49m\u001B[33;43m'\u001B[39;49m\u001B[33;43mdata/KRvideos.csv\u001B[39;49m\u001B[33;43m'\u001B[39;49m\u001B[43m)\u001B[49m\n",
      "\u001B[36mFile \u001B[39m\u001B[32m~\\miniconda3\\envs\\ai_basic_env\\Lib\\site-packages\\pandas\\io\\parsers\\readers.py:1026\u001B[39m, in \u001B[36mread_csv\u001B[39m\u001B[34m(filepath_or_buffer, sep, delimiter, header, names, index_col, usecols, dtype, engine, converters, true_values, false_values, skipinitialspace, skiprows, skipfooter, nrows, na_values, keep_default_na, na_filter, verbose, skip_blank_lines, parse_dates, infer_datetime_format, keep_date_col, date_parser, date_format, dayfirst, cache_dates, iterator, chunksize, compression, thousands, decimal, lineterminator, quotechar, quoting, doublequote, escapechar, comment, encoding, encoding_errors, dialect, on_bad_lines, delim_whitespace, low_memory, memory_map, float_precision, storage_options, dtype_backend)\u001B[39m\n\u001B[32m   1013\u001B[39m kwds_defaults = _refine_defaults_read(\n\u001B[32m   1014\u001B[39m     dialect,\n\u001B[32m   1015\u001B[39m     delimiter,\n\u001B[32m   (...)\u001B[39m\u001B[32m   1022\u001B[39m     dtype_backend=dtype_backend,\n\u001B[32m   1023\u001B[39m )\n\u001B[32m   1024\u001B[39m kwds.update(kwds_defaults)\n\u001B[32m-> \u001B[39m\u001B[32m1026\u001B[39m \u001B[38;5;28;01mreturn\u001B[39;00m \u001B[43m_read\u001B[49m\u001B[43m(\u001B[49m\u001B[43mfilepath_or_buffer\u001B[49m\u001B[43m,\u001B[49m\u001B[43m \u001B[49m\u001B[43mkwds\u001B[49m\u001B[43m)\u001B[49m\n",
      "\u001B[36mFile \u001B[39m\u001B[32m~\\miniconda3\\envs\\ai_basic_env\\Lib\\site-packages\\pandas\\io\\parsers\\readers.py:626\u001B[39m, in \u001B[36m_read\u001B[39m\u001B[34m(filepath_or_buffer, kwds)\u001B[39m\n\u001B[32m    623\u001B[39m     \u001B[38;5;28;01mreturn\u001B[39;00m parser\n\u001B[32m    625\u001B[39m \u001B[38;5;28;01mwith\u001B[39;00m parser:\n\u001B[32m--> \u001B[39m\u001B[32m626\u001B[39m     \u001B[38;5;28;01mreturn\u001B[39;00m \u001B[43mparser\u001B[49m\u001B[43m.\u001B[49m\u001B[43mread\u001B[49m\u001B[43m(\u001B[49m\u001B[43mnrows\u001B[49m\u001B[43m)\u001B[49m\n",
      "\u001B[36mFile \u001B[39m\u001B[32m~\\miniconda3\\envs\\ai_basic_env\\Lib\\site-packages\\pandas\\io\\parsers\\readers.py:1923\u001B[39m, in \u001B[36mTextFileReader.read\u001B[39m\u001B[34m(self, nrows)\u001B[39m\n\u001B[32m   1916\u001B[39m nrows = validate_integer(\u001B[33m\"\u001B[39m\u001B[33mnrows\u001B[39m\u001B[33m\"\u001B[39m, nrows)\n\u001B[32m   1917\u001B[39m \u001B[38;5;28;01mtry\u001B[39;00m:\n\u001B[32m   1918\u001B[39m     \u001B[38;5;66;03m# error: \"ParserBase\" has no attribute \"read\"\u001B[39;00m\n\u001B[32m   1919\u001B[39m     (\n\u001B[32m   1920\u001B[39m         index,\n\u001B[32m   1921\u001B[39m         columns,\n\u001B[32m   1922\u001B[39m         col_dict,\n\u001B[32m-> \u001B[39m\u001B[32m1923\u001B[39m     ) = \u001B[38;5;28;43mself\u001B[39;49m\u001B[43m.\u001B[49m\u001B[43m_engine\u001B[49m\u001B[43m.\u001B[49m\u001B[43mread\u001B[49m\u001B[43m(\u001B[49m\u001B[43m  \u001B[49m\u001B[38;5;66;43;03m# type: ignore[attr-defined]\u001B[39;49;00m\n\u001B[32m   1924\u001B[39m \u001B[43m        \u001B[49m\u001B[43mnrows\u001B[49m\n\u001B[32m   1925\u001B[39m \u001B[43m    \u001B[49m\u001B[43m)\u001B[49m\n\u001B[32m   1926\u001B[39m \u001B[38;5;28;01mexcept\u001B[39;00m \u001B[38;5;167;01mException\u001B[39;00m:\n\u001B[32m   1927\u001B[39m     \u001B[38;5;28mself\u001B[39m.close()\n",
      "\u001B[36mFile \u001B[39m\u001B[32m~\\miniconda3\\envs\\ai_basic_env\\Lib\\site-packages\\pandas\\io\\parsers\\c_parser_wrapper.py:234\u001B[39m, in \u001B[36mCParserWrapper.read\u001B[39m\u001B[34m(self, nrows)\u001B[39m\n\u001B[32m    232\u001B[39m \u001B[38;5;28;01mtry\u001B[39;00m:\n\u001B[32m    233\u001B[39m     \u001B[38;5;28;01mif\u001B[39;00m \u001B[38;5;28mself\u001B[39m.low_memory:\n\u001B[32m--> \u001B[39m\u001B[32m234\u001B[39m         chunks = \u001B[38;5;28;43mself\u001B[39;49m\u001B[43m.\u001B[49m\u001B[43m_reader\u001B[49m\u001B[43m.\u001B[49m\u001B[43mread_low_memory\u001B[49m\u001B[43m(\u001B[49m\u001B[43mnrows\u001B[49m\u001B[43m)\u001B[49m\n\u001B[32m    235\u001B[39m         \u001B[38;5;66;03m# destructive to chunks\u001B[39;00m\n\u001B[32m    236\u001B[39m         data = _concatenate_chunks(chunks)\n",
      "\u001B[36mFile \u001B[39m\u001B[32mparsers.pyx:838\u001B[39m, in \u001B[36mpandas._libs.parsers.TextReader.read_low_memory\u001B[39m\u001B[34m()\u001B[39m\n",
      "\u001B[36mFile \u001B[39m\u001B[32mparsers.pyx:905\u001B[39m, in \u001B[36mpandas._libs.parsers.TextReader._read_rows\u001B[39m\u001B[34m()\u001B[39m\n",
      "\u001B[36mFile \u001B[39m\u001B[32mparsers.pyx:874\u001B[39m, in \u001B[36mpandas._libs.parsers.TextReader._tokenize_rows\u001B[39m\u001B[34m()\u001B[39m\n",
      "\u001B[36mFile \u001B[39m\u001B[32mparsers.pyx:891\u001B[39m, in \u001B[36mpandas._libs.parsers.TextReader._check_tokenize_status\u001B[39m\u001B[34m()\u001B[39m\n",
      "\u001B[36mFile \u001B[39m\u001B[32mparsers.pyx:2053\u001B[39m, in \u001B[36mpandas._libs.parsers.raise_parser_error\u001B[39m\u001B[34m()\u001B[39m\n",
      "\u001B[36mFile \u001B[39m\u001B[32m<frozen codecs>:322\u001B[39m, in \u001B[36mdecode\u001B[39m\u001B[34m(self, input, final)\u001B[39m\n",
      "\u001B[31mUnicodeDecodeError\u001B[39m: 'utf-8' codec can't decode bytes in position 261291-261292: invalid continuation byte"
     ]
    }
   ],
   "execution_count": 14
  }
 ],
 "metadata": {
  "kernelspec": {
   "display_name": "Python 3",
   "language": "python",
   "name": "python3"
  },
  "language_info": {
   "codemirror_mode": {
    "name": "ipython",
    "version": 2
   },
   "file_extension": ".py",
   "mimetype": "text/x-python",
   "name": "python",
   "nbconvert_exporter": "python",
   "pygments_lexer": "ipython2",
   "version": "2.7.6"
  }
 },
 "nbformat": 4,
 "nbformat_minor": 5
}
